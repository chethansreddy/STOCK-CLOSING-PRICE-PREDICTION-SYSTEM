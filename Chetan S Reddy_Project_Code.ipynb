{
 "cells": [
  {
   "cell_type": "code",
   "execution_count": 1,
   "id": "98d660d6",
   "metadata": {},
   "outputs": [],
   "source": [
    "import numpy as np\n",
    "import pandas as pd\n",
    "import seaborn as sns\n",
    "import matplotlib.pyplot as plt\n",
    "from sklearn import metrics\n",
    "from sklearn.model_selection import train_test_split\n",
    "from sklearn.metrics import classification_report\n",
    "import warnings\n",
    "from sklearn.preprocessing import StandardScaler,MinMaxScaler\n",
    "\n",
    "warnings.filterwarnings(\"ignore\")"
   ]
  },
  {
   "cell_type": "code",
   "execution_count": 2,
   "id": "3bcc7a7e",
   "metadata": {
    "scrolled": false
   },
   "outputs": [
    {
     "data": {
      "text/html": [
       "<div>\n",
       "<style scoped>\n",
       "    .dataframe tbody tr th:only-of-type {\n",
       "        vertical-align: middle;\n",
       "    }\n",
       "\n",
       "    .dataframe tbody tr th {\n",
       "        vertical-align: top;\n",
       "    }\n",
       "\n",
       "    .dataframe thead th {\n",
       "        text-align: right;\n",
       "    }\n",
       "</style>\n",
       "<table border=\"1\" class=\"dataframe\">\n",
       "  <thead>\n",
       "    <tr style=\"text-align: right;\">\n",
       "      <th></th>\n",
       "      <th>Open</th>\n",
       "      <th>High</th>\n",
       "      <th>Low</th>\n",
       "      <th>Volume</th>\n",
       "    </tr>\n",
       "  </thead>\n",
       "  <tbody>\n",
       "    <tr>\n",
       "      <th>0</th>\n",
       "      <td>75.430000</td>\n",
       "      <td>75.910004</td>\n",
       "      <td>75.139999</td>\n",
       "      <td>3436700.0</td>\n",
       "    </tr>\n",
       "    <tr>\n",
       "      <th>1</th>\n",
       "      <td>124.930000</td>\n",
       "      <td>124.940002</td>\n",
       "      <td>124.169998</td>\n",
       "      <td>2366700.0</td>\n",
       "    </tr>\n",
       "    <tr>\n",
       "      <th>2</th>\n",
       "      <td>84.339996</td>\n",
       "      <td>84.370003</td>\n",
       "      <td>82.370003</td>\n",
       "      <td>11338700.0</td>\n",
       "    </tr>\n",
       "    <tr>\n",
       "      <th>3</th>\n",
       "      <td>56.770000</td>\n",
       "      <td>57.150002</td>\n",
       "      <td>56.529999</td>\n",
       "      <td>413300.0</td>\n",
       "    </tr>\n",
       "    <tr>\n",
       "      <th>4</th>\n",
       "      <td>47.419998</td>\n",
       "      <td>48.090000</td>\n",
       "      <td>46.759998</td>\n",
       "      <td>9531100.0</td>\n",
       "    </tr>\n",
       "    <tr>\n",
       "      <th>...</th>\n",
       "      <td>...</td>\n",
       "      <td>...</td>\n",
       "      <td>...</td>\n",
       "      <td>...</td>\n",
       "    </tr>\n",
       "    <tr>\n",
       "      <th>97727</th>\n",
       "      <td>103.650002</td>\n",
       "      <td>103.809998</td>\n",
       "      <td>103.089996</td>\n",
       "      <td>3678200.0</td>\n",
       "    </tr>\n",
       "    <tr>\n",
       "      <th>97728</th>\n",
       "      <td>64.419998</td>\n",
       "      <td>64.730003</td>\n",
       "      <td>64.190002</td>\n",
       "      <td>20273100.0</td>\n",
       "    </tr>\n",
       "    <tr>\n",
       "      <th>97729</th>\n",
       "      <td>581.070007</td>\n",
       "      <td>581.400024</td>\n",
       "      <td>571.070007</td>\n",
       "      <td>3416500.0</td>\n",
       "    </tr>\n",
       "    <tr>\n",
       "      <th>97730</th>\n",
       "      <td>120.650002</td>\n",
       "      <td>120.650002</td>\n",
       "      <td>114.959999</td>\n",
       "      <td>13261700.0</td>\n",
       "    </tr>\n",
       "    <tr>\n",
       "      <th>97731</th>\n",
       "      <td>64.870003</td>\n",
       "      <td>64.959999</td>\n",
       "      <td>64.309998</td>\n",
       "      <td>667000.0</td>\n",
       "    </tr>\n",
       "  </tbody>\n",
       "</table>\n",
       "<p>97732 rows × 4 columns</p>\n",
       "</div>"
      ],
      "text/plain": [
       "             Open        High         Low      Volume\n",
       "0       75.430000   75.910004   75.139999   3436700.0\n",
       "1      124.930000  124.940002  124.169998   2366700.0\n",
       "2       84.339996   84.370003   82.370003  11338700.0\n",
       "3       56.770000   57.150002   56.529999    413300.0\n",
       "4       47.419998   48.090000   46.759998   9531100.0\n",
       "...           ...         ...         ...         ...\n",
       "97727  103.650002  103.809998  103.089996   3678200.0\n",
       "97728   64.419998   64.730003   64.190002  20273100.0\n",
       "97729  581.070007  581.400024  571.070007   3416500.0\n",
       "97730  120.650002  120.650002  114.959999  13261700.0\n",
       "97731   64.870003   64.959999   64.309998    667000.0\n",
       "\n",
       "[97732 rows x 4 columns]"
      ]
     },
     "execution_count": 2,
     "metadata": {},
     "output_type": "execute_result"
    }
   ],
   "source": [
    "dfx = pd.read_csv(\"C://Users//byuva//Downloads//stocknet_trn_data.csv\")\n",
    "dfx"
   ]
  },
  {
   "cell_type": "code",
   "execution_count": 3,
   "id": "a0232916",
   "metadata": {
    "scrolled": false
   },
   "outputs": [
    {
     "data": {
      "text/html": [
       "<div>\n",
       "<style scoped>\n",
       "    .dataframe tbody tr th:only-of-type {\n",
       "        vertical-align: middle;\n",
       "    }\n",
       "\n",
       "    .dataframe tbody tr th {\n",
       "        vertical-align: top;\n",
       "    }\n",
       "\n",
       "    .dataframe thead th {\n",
       "        text-align: right;\n",
       "    }\n",
       "</style>\n",
       "<table border=\"1\" class=\"dataframe\">\n",
       "  <thead>\n",
       "    <tr style=\"text-align: right;\">\n",
       "      <th></th>\n",
       "      <th>0</th>\n",
       "      <th>1</th>\n",
       "    </tr>\n",
       "  </thead>\n",
       "  <tbody>\n",
       "    <tr>\n",
       "      <th>0</th>\n",
       "      <td>d1</td>\n",
       "      <td>75.650002</td>\n",
       "    </tr>\n",
       "    <tr>\n",
       "      <th>1</th>\n",
       "      <td>d2</td>\n",
       "      <td>124.449997</td>\n",
       "    </tr>\n",
       "    <tr>\n",
       "      <th>2</th>\n",
       "      <td>d3</td>\n",
       "      <td>82.660004</td>\n",
       "    </tr>\n",
       "    <tr>\n",
       "      <th>3</th>\n",
       "      <td>d4</td>\n",
       "      <td>57.009998</td>\n",
       "    </tr>\n",
       "    <tr>\n",
       "      <th>4</th>\n",
       "      <td>d5</td>\n",
       "      <td>47.860001</td>\n",
       "    </tr>\n",
       "    <tr>\n",
       "      <th>...</th>\n",
       "      <td>...</td>\n",
       "      <td>...</td>\n",
       "    </tr>\n",
       "    <tr>\n",
       "      <th>97727</th>\n",
       "      <td>d97728</td>\n",
       "      <td>103.230003</td>\n",
       "    </tr>\n",
       "    <tr>\n",
       "      <th>97728</th>\n",
       "      <td>d97729</td>\n",
       "      <td>64.620003</td>\n",
       "    </tr>\n",
       "    <tr>\n",
       "      <th>97729</th>\n",
       "      <td>d97730</td>\n",
       "      <td>575.140015</td>\n",
       "    </tr>\n",
       "    <tr>\n",
       "      <th>97730</th>\n",
       "      <td>d97731</td>\n",
       "      <td>115.400002</td>\n",
       "    </tr>\n",
       "    <tr>\n",
       "      <th>97731</th>\n",
       "      <td>d97732</td>\n",
       "      <td>64.720001</td>\n",
       "    </tr>\n",
       "  </tbody>\n",
       "</table>\n",
       "<p>97732 rows × 2 columns</p>\n",
       "</div>"
      ],
      "text/plain": [
       "            0           1\n",
       "0          d1   75.650002\n",
       "1          d2  124.449997\n",
       "2          d3   82.660004\n",
       "3          d4   57.009998\n",
       "4          d5   47.860001\n",
       "...       ...         ...\n",
       "97727  d97728  103.230003\n",
       "97728  d97729   64.620003\n",
       "97729  d97730  575.140015\n",
       "97730  d97731  115.400002\n",
       "97731  d97732   64.720001\n",
       "\n",
       "[97732 rows x 2 columns]"
      ]
     },
     "execution_count": 3,
     "metadata": {},
     "output_type": "execute_result"
    }
   ],
   "source": [
    "dfy = pd.read_csv(\"C://Users//byuva//Downloads//stocknet_trn_data_targets.csv\", header=None)\n",
    "dfy"
   ]
  },
  {
   "cell_type": "code",
   "execution_count": 4,
   "id": "1ac117e7",
   "metadata": {},
   "outputs": [],
   "source": [
    "#dfx = dfx.dropna()\n",
    "#dfx"
   ]
  },
  {
   "cell_type": "code",
   "execution_count": 5,
   "id": "06dbff80",
   "metadata": {},
   "outputs": [
    {
     "data": {
      "text/plain": [
       "[7642, 46002, 61502]"
      ]
     },
     "execution_count": 5,
     "metadata": {},
     "output_type": "execute_result"
    }
   ],
   "source": [
    "dfx[dfx['High'].isnull()].index.tolist()"
   ]
  },
  {
   "cell_type": "code",
   "execution_count": 6,
   "id": "7d0ebf60",
   "metadata": {},
   "outputs": [
    {
     "data": {
      "text/plain": [
       "[7642, 46002, 61502]"
      ]
     },
     "execution_count": 6,
     "metadata": {},
     "output_type": "execute_result"
    }
   ],
   "source": [
    "dfx[dfx['Low'].isnull()].index.tolist()"
   ]
  },
  {
   "cell_type": "code",
   "execution_count": 7,
   "id": "4c9e4c39",
   "metadata": {},
   "outputs": [
    {
     "data": {
      "text/plain": [
       "[7642, 46002, 61502]"
      ]
     },
     "execution_count": 7,
     "metadata": {},
     "output_type": "execute_result"
    }
   ],
   "source": [
    "dfx[dfx['Volume'].isnull()].index.tolist()"
   ]
  },
  {
   "cell_type": "code",
   "execution_count": 8,
   "id": "066a2307",
   "metadata": {},
   "outputs": [
    {
     "data": {
      "text/plain": [
       "[7642, 46002, 61502]"
      ]
     },
     "execution_count": 8,
     "metadata": {},
     "output_type": "execute_result"
    }
   ],
   "source": [
    "dfx[dfx['Open'].isnull()].index.tolist()"
   ]
  },
  {
   "cell_type": "code",
   "execution_count": 9,
   "id": "48e7f103",
   "metadata": {},
   "outputs": [
    {
     "data": {
      "text/plain": [
       "Open      9.475348\n",
       "High      9.473054\n",
       "Low       9.476892\n",
       "Volume    6.506281\n",
       "dtype: float64"
      ]
     },
     "execution_count": 9,
     "metadata": {},
     "output_type": "execute_result"
    }
   ],
   "source": [
    "dfx.skew()"
   ]
  },
  {
   "cell_type": "code",
   "execution_count": 10,
   "id": "3403282f",
   "metadata": {},
   "outputs": [
    {
     "data": {
      "text/html": [
       "<div>\n",
       "<style scoped>\n",
       "    .dataframe tbody tr th:only-of-type {\n",
       "        vertical-align: middle;\n",
       "    }\n",
       "\n",
       "    .dataframe tbody tr th {\n",
       "        vertical-align: top;\n",
       "    }\n",
       "\n",
       "    .dataframe thead th {\n",
       "        text-align: right;\n",
       "    }\n",
       "</style>\n",
       "<table border=\"1\" class=\"dataframe\">\n",
       "  <thead>\n",
       "    <tr style=\"text-align: right;\">\n",
       "      <th></th>\n",
       "      <th>Open</th>\n",
       "      <th>High</th>\n",
       "      <th>Low</th>\n",
       "      <th>Volume</th>\n",
       "    </tr>\n",
       "  </thead>\n",
       "  <tbody>\n",
       "    <tr>\n",
       "      <th>0</th>\n",
       "      <td>75.430000</td>\n",
       "      <td>75.910004</td>\n",
       "      <td>75.139999</td>\n",
       "      <td>3436700.0</td>\n",
       "    </tr>\n",
       "    <tr>\n",
       "      <th>1</th>\n",
       "      <td>124.930000</td>\n",
       "      <td>124.940002</td>\n",
       "      <td>124.169998</td>\n",
       "      <td>2366700.0</td>\n",
       "    </tr>\n",
       "    <tr>\n",
       "      <th>2</th>\n",
       "      <td>84.339996</td>\n",
       "      <td>84.370003</td>\n",
       "      <td>82.370003</td>\n",
       "      <td>11338700.0</td>\n",
       "    </tr>\n",
       "    <tr>\n",
       "      <th>3</th>\n",
       "      <td>56.770000</td>\n",
       "      <td>57.150002</td>\n",
       "      <td>56.529999</td>\n",
       "      <td>413300.0</td>\n",
       "    </tr>\n",
       "    <tr>\n",
       "      <th>4</th>\n",
       "      <td>47.419998</td>\n",
       "      <td>48.090000</td>\n",
       "      <td>46.759998</td>\n",
       "      <td>9531100.0</td>\n",
       "    </tr>\n",
       "    <tr>\n",
       "      <th>...</th>\n",
       "      <td>...</td>\n",
       "      <td>...</td>\n",
       "      <td>...</td>\n",
       "      <td>...</td>\n",
       "    </tr>\n",
       "    <tr>\n",
       "      <th>97727</th>\n",
       "      <td>103.650002</td>\n",
       "      <td>103.809998</td>\n",
       "      <td>103.089996</td>\n",
       "      <td>3678200.0</td>\n",
       "    </tr>\n",
       "    <tr>\n",
       "      <th>97728</th>\n",
       "      <td>64.419998</td>\n",
       "      <td>64.730003</td>\n",
       "      <td>64.190002</td>\n",
       "      <td>20273100.0</td>\n",
       "    </tr>\n",
       "    <tr>\n",
       "      <th>97729</th>\n",
       "      <td>581.070007</td>\n",
       "      <td>581.400024</td>\n",
       "      <td>571.070007</td>\n",
       "      <td>3416500.0</td>\n",
       "    </tr>\n",
       "    <tr>\n",
       "      <th>97730</th>\n",
       "      <td>120.650002</td>\n",
       "      <td>120.650002</td>\n",
       "      <td>114.959999</td>\n",
       "      <td>13261700.0</td>\n",
       "    </tr>\n",
       "    <tr>\n",
       "      <th>97731</th>\n",
       "      <td>64.870003</td>\n",
       "      <td>64.959999</td>\n",
       "      <td>64.309998</td>\n",
       "      <td>667000.0</td>\n",
       "    </tr>\n",
       "  </tbody>\n",
       "</table>\n",
       "<p>97732 rows × 4 columns</p>\n",
       "</div>"
      ],
      "text/plain": [
       "             Open        High         Low      Volume\n",
       "0       75.430000   75.910004   75.139999   3436700.0\n",
       "1      124.930000  124.940002  124.169998   2366700.0\n",
       "2       84.339996   84.370003   82.370003  11338700.0\n",
       "3       56.770000   57.150002   56.529999    413300.0\n",
       "4       47.419998   48.090000   46.759998   9531100.0\n",
       "...           ...         ...         ...         ...\n",
       "97727  103.650002  103.809998  103.089996   3678200.0\n",
       "97728   64.419998   64.730003   64.190002  20273100.0\n",
       "97729  581.070007  581.400024  571.070007   3416500.0\n",
       "97730  120.650002  120.650002  114.959999  13261700.0\n",
       "97731   64.870003   64.959999   64.309998    667000.0\n",
       "\n",
       "[97732 rows x 4 columns]"
      ]
     },
     "execution_count": 10,
     "metadata": {},
     "output_type": "execute_result"
    }
   ],
   "source": [
    "# dfx['Open'].fillna(int(dfx['Open'].mean()), inplace = True)\n",
    "dfx"
   ]
  },
  {
   "cell_type": "code",
   "execution_count": 11,
   "id": "333d4b45",
   "metadata": {},
   "outputs": [
    {
     "data": {
      "text/plain": [
       "Open      2.427661e+03\n",
       "High      2.439557e+03\n",
       "Low       2.413965e+03\n",
       "Volume    9.064781e+06\n",
       "dtype: float64"
      ]
     },
     "execution_count": 11,
     "metadata": {},
     "output_type": "execute_result"
    }
   ],
   "source": [
    "dfx.mean()"
   ]
  },
  {
   "cell_type": "code",
   "execution_count": 12,
   "id": "1ccc910f",
   "metadata": {},
   "outputs": [
    {
     "data": {
      "text/plain": [
       "Open      6.596000e+01\n",
       "High      6.649000e+01\n",
       "Low       6.546000e+01\n",
       "Volume    3.544600e+06\n",
       "dtype: float64"
      ]
     },
     "execution_count": 12,
     "metadata": {},
     "output_type": "execute_result"
    }
   ],
   "source": [
    "dfx.median()"
   ]
  },
  {
   "cell_type": "code",
   "execution_count": 13,
   "id": "8f15d283",
   "metadata": {},
   "outputs": [],
   "source": [
    "stock = pd.concat([dfx,dfy[1]],axis=1)"
   ]
  },
  {
   "cell_type": "code",
   "execution_count": 14,
   "id": "c5db73b2",
   "metadata": {
    "scrolled": false
   },
   "outputs": [
    {
     "data": {
      "text/plain": [
       "[7642, 46002, 61502]"
      ]
     },
     "execution_count": 14,
     "metadata": {},
     "output_type": "execute_result"
    }
   ],
   "source": [
    "stock[stock[1].isnull()].index.tolist()"
   ]
  },
  {
   "cell_type": "code",
   "execution_count": 15,
   "id": "e2f9af29",
   "metadata": {},
   "outputs": [
    {
     "data": {
      "text/plain": [
       "Open      9.475348\n",
       "High      9.473054\n",
       "Low       9.476892\n",
       "Volume    6.506281\n",
       "1         9.475081\n",
       "dtype: float64"
      ]
     },
     "execution_count": 15,
     "metadata": {},
     "output_type": "execute_result"
    }
   ],
   "source": [
    "stock.skew()"
   ]
  },
  {
   "cell_type": "code",
   "execution_count": 16,
   "id": "1615d392",
   "metadata": {},
   "outputs": [
    {
     "data": {
      "text/html": [
       "<div>\n",
       "<style scoped>\n",
       "    .dataframe tbody tr th:only-of-type {\n",
       "        vertical-align: middle;\n",
       "    }\n",
       "\n",
       "    .dataframe tbody tr th {\n",
       "        vertical-align: top;\n",
       "    }\n",
       "\n",
       "    .dataframe thead th {\n",
       "        text-align: right;\n",
       "    }\n",
       "</style>\n",
       "<table border=\"1\" class=\"dataframe\">\n",
       "  <thead>\n",
       "    <tr style=\"text-align: right;\">\n",
       "      <th></th>\n",
       "      <th>Open</th>\n",
       "      <th>High</th>\n",
       "      <th>Low</th>\n",
       "      <th>Volume</th>\n",
       "      <th>1</th>\n",
       "    </tr>\n",
       "  </thead>\n",
       "  <tbody>\n",
       "    <tr>\n",
       "      <th>0</th>\n",
       "      <td>75.430000</td>\n",
       "      <td>75.910004</td>\n",
       "      <td>75.139999</td>\n",
       "      <td>3436700.0</td>\n",
       "      <td>75.650002</td>\n",
       "    </tr>\n",
       "    <tr>\n",
       "      <th>1</th>\n",
       "      <td>124.930000</td>\n",
       "      <td>124.940002</td>\n",
       "      <td>124.169998</td>\n",
       "      <td>2366700.0</td>\n",
       "      <td>124.449997</td>\n",
       "    </tr>\n",
       "    <tr>\n",
       "      <th>2</th>\n",
       "      <td>84.339996</td>\n",
       "      <td>84.370003</td>\n",
       "      <td>82.370003</td>\n",
       "      <td>11338700.0</td>\n",
       "      <td>82.660004</td>\n",
       "    </tr>\n",
       "    <tr>\n",
       "      <th>3</th>\n",
       "      <td>56.770000</td>\n",
       "      <td>57.150002</td>\n",
       "      <td>56.529999</td>\n",
       "      <td>413300.0</td>\n",
       "      <td>57.009998</td>\n",
       "    </tr>\n",
       "    <tr>\n",
       "      <th>4</th>\n",
       "      <td>47.419998</td>\n",
       "      <td>48.090000</td>\n",
       "      <td>46.759998</td>\n",
       "      <td>9531100.0</td>\n",
       "      <td>47.860001</td>\n",
       "    </tr>\n",
       "    <tr>\n",
       "      <th>...</th>\n",
       "      <td>...</td>\n",
       "      <td>...</td>\n",
       "      <td>...</td>\n",
       "      <td>...</td>\n",
       "      <td>...</td>\n",
       "    </tr>\n",
       "    <tr>\n",
       "      <th>97727</th>\n",
       "      <td>103.650002</td>\n",
       "      <td>103.809998</td>\n",
       "      <td>103.089996</td>\n",
       "      <td>3678200.0</td>\n",
       "      <td>103.230003</td>\n",
       "    </tr>\n",
       "    <tr>\n",
       "      <th>97728</th>\n",
       "      <td>64.419998</td>\n",
       "      <td>64.730003</td>\n",
       "      <td>64.190002</td>\n",
       "      <td>20273100.0</td>\n",
       "      <td>64.620003</td>\n",
       "    </tr>\n",
       "    <tr>\n",
       "      <th>97729</th>\n",
       "      <td>581.070007</td>\n",
       "      <td>581.400024</td>\n",
       "      <td>571.070007</td>\n",
       "      <td>3416500.0</td>\n",
       "      <td>575.140015</td>\n",
       "    </tr>\n",
       "    <tr>\n",
       "      <th>97730</th>\n",
       "      <td>120.650002</td>\n",
       "      <td>120.650002</td>\n",
       "      <td>114.959999</td>\n",
       "      <td>13261700.0</td>\n",
       "      <td>115.400002</td>\n",
       "    </tr>\n",
       "    <tr>\n",
       "      <th>97731</th>\n",
       "      <td>64.870003</td>\n",
       "      <td>64.959999</td>\n",
       "      <td>64.309998</td>\n",
       "      <td>667000.0</td>\n",
       "      <td>64.720001</td>\n",
       "    </tr>\n",
       "  </tbody>\n",
       "</table>\n",
       "<p>97729 rows × 5 columns</p>\n",
       "</div>"
      ],
      "text/plain": [
       "             Open        High         Low      Volume           1\n",
       "0       75.430000   75.910004   75.139999   3436700.0   75.650002\n",
       "1      124.930000  124.940002  124.169998   2366700.0  124.449997\n",
       "2       84.339996   84.370003   82.370003  11338700.0   82.660004\n",
       "3       56.770000   57.150002   56.529999    413300.0   57.009998\n",
       "4       47.419998   48.090000   46.759998   9531100.0   47.860001\n",
       "...           ...         ...         ...         ...         ...\n",
       "97727  103.650002  103.809998  103.089996   3678200.0  103.230003\n",
       "97728   64.419998   64.730003   64.190002  20273100.0   64.620003\n",
       "97729  581.070007  581.400024  571.070007   3416500.0  575.140015\n",
       "97730  120.650002  120.650002  114.959999  13261700.0  115.400002\n",
       "97731   64.870003   64.959999   64.309998    667000.0   64.720001\n",
       "\n",
       "[97729 rows x 5 columns]"
      ]
     },
     "execution_count": 16,
     "metadata": {},
     "output_type": "execute_result"
    }
   ],
   "source": [
    "stock_= stock.dropna()\n",
    "stock_"
   ]
  },
  {
   "cell_type": "code",
   "execution_count": 17,
   "id": "5982e671",
   "metadata": {
    "scrolled": false
   },
   "outputs": [
    {
     "data": {
      "text/html": [
       "<div>\n",
       "<style scoped>\n",
       "    .dataframe tbody tr th:only-of-type {\n",
       "        vertical-align: middle;\n",
       "    }\n",
       "\n",
       "    .dataframe tbody tr th {\n",
       "        vertical-align: top;\n",
       "    }\n",
       "\n",
       "    .dataframe thead th {\n",
       "        text-align: right;\n",
       "    }\n",
       "</style>\n",
       "<table border=\"1\" class=\"dataframe\">\n",
       "  <thead>\n",
       "    <tr style=\"text-align: right;\">\n",
       "      <th></th>\n",
       "      <th>Open</th>\n",
       "      <th>High</th>\n",
       "      <th>Low</th>\n",
       "      <th>Volume</th>\n",
       "      <th>1</th>\n",
       "    </tr>\n",
       "  </thead>\n",
       "  <tbody>\n",
       "    <tr>\n",
       "      <th>0</th>\n",
       "      <td>75.430000</td>\n",
       "      <td>75.910004</td>\n",
       "      <td>75.139999</td>\n",
       "      <td>3436700.0</td>\n",
       "      <td>75.650002</td>\n",
       "    </tr>\n",
       "    <tr>\n",
       "      <th>1</th>\n",
       "      <td>124.930000</td>\n",
       "      <td>124.940002</td>\n",
       "      <td>124.169998</td>\n",
       "      <td>2366700.0</td>\n",
       "      <td>124.449997</td>\n",
       "    </tr>\n",
       "    <tr>\n",
       "      <th>2</th>\n",
       "      <td>84.339996</td>\n",
       "      <td>84.370003</td>\n",
       "      <td>82.370003</td>\n",
       "      <td>11338700.0</td>\n",
       "      <td>82.660004</td>\n",
       "    </tr>\n",
       "    <tr>\n",
       "      <th>3</th>\n",
       "      <td>56.770000</td>\n",
       "      <td>57.150002</td>\n",
       "      <td>56.529999</td>\n",
       "      <td>413300.0</td>\n",
       "      <td>57.009998</td>\n",
       "    </tr>\n",
       "    <tr>\n",
       "      <th>4</th>\n",
       "      <td>47.419998</td>\n",
       "      <td>48.090000</td>\n",
       "      <td>46.759998</td>\n",
       "      <td>9531100.0</td>\n",
       "      <td>47.860001</td>\n",
       "    </tr>\n",
       "    <tr>\n",
       "      <th>...</th>\n",
       "      <td>...</td>\n",
       "      <td>...</td>\n",
       "      <td>...</td>\n",
       "      <td>...</td>\n",
       "      <td>...</td>\n",
       "    </tr>\n",
       "    <tr>\n",
       "      <th>97727</th>\n",
       "      <td>103.650002</td>\n",
       "      <td>103.809998</td>\n",
       "      <td>103.089996</td>\n",
       "      <td>3678200.0</td>\n",
       "      <td>103.230003</td>\n",
       "    </tr>\n",
       "    <tr>\n",
       "      <th>97728</th>\n",
       "      <td>64.419998</td>\n",
       "      <td>64.730003</td>\n",
       "      <td>64.190002</td>\n",
       "      <td>20273100.0</td>\n",
       "      <td>64.620003</td>\n",
       "    </tr>\n",
       "    <tr>\n",
       "      <th>97729</th>\n",
       "      <td>581.070007</td>\n",
       "      <td>581.400024</td>\n",
       "      <td>571.070007</td>\n",
       "      <td>3416500.0</td>\n",
       "      <td>575.140015</td>\n",
       "    </tr>\n",
       "    <tr>\n",
       "      <th>97730</th>\n",
       "      <td>120.650002</td>\n",
       "      <td>120.650002</td>\n",
       "      <td>114.959999</td>\n",
       "      <td>13261700.0</td>\n",
       "      <td>115.400002</td>\n",
       "    </tr>\n",
       "    <tr>\n",
       "      <th>97731</th>\n",
       "      <td>64.870003</td>\n",
       "      <td>64.959999</td>\n",
       "      <td>64.309998</td>\n",
       "      <td>667000.0</td>\n",
       "      <td>64.720001</td>\n",
       "    </tr>\n",
       "  </tbody>\n",
       "</table>\n",
       "<p>97729 rows × 5 columns</p>\n",
       "</div>"
      ],
      "text/plain": [
       "             Open        High         Low      Volume           1\n",
       "0       75.430000   75.910004   75.139999   3436700.0   75.650002\n",
       "1      124.930000  124.940002  124.169998   2366700.0  124.449997\n",
       "2       84.339996   84.370003   82.370003  11338700.0   82.660004\n",
       "3       56.770000   57.150002   56.529999    413300.0   57.009998\n",
       "4       47.419998   48.090000   46.759998   9531100.0   47.860001\n",
       "...           ...         ...         ...         ...         ...\n",
       "97727  103.650002  103.809998  103.089996   3678200.0  103.230003\n",
       "97728   64.419998   64.730003   64.190002  20273100.0   64.620003\n",
       "97729  581.070007  581.400024  571.070007   3416500.0  575.140015\n",
       "97730  120.650002  120.650002  114.959999  13261700.0  115.400002\n",
       "97731   64.870003   64.959999   64.309998    667000.0   64.720001\n",
       "\n",
       "[97729 rows x 5 columns]"
      ]
     },
     "execution_count": 17,
     "metadata": {},
     "output_type": "execute_result"
    }
   ],
   "source": [
    "stock_"
   ]
  },
  {
   "cell_type": "code",
   "execution_count": 18,
   "id": "fc272c20",
   "metadata": {},
   "outputs": [],
   "source": [
    "# stock_[1] = stock_[1].shift(-3)\n",
    "\n",
    "# stock_test = stock_.tail(-3).drop(columns = 1,axis = 1)\n",
    "# stock_test\n",
    "# stock_ = stock_[:-3]\n",
    "# stock_.tail()"
   ]
  },
  {
   "cell_type": "markdown",
   "id": "e24cd1f6",
   "metadata": {},
   "source": [
    "### Linear Regression"
   ]
  },
  {
   "cell_type": "code",
   "execution_count": 65,
   "id": "beb028c8",
   "metadata": {},
   "outputs": [],
   "source": [
    "X_train, X_test, y_train, y_test = train_test_split(stock_[['Open' ,'High' , 'Low', 'Volume']], stock_[[1]], test_size=.2)"
   ]
  },
  {
   "cell_type": "code",
   "execution_count": 66,
   "id": "6e4677aa",
   "metadata": {},
   "outputs": [
    {
     "name": "stdout",
     "output_type": "stream",
     "text": [
      "               Open          High           Low        Volume\n",
      "count  1.954600e+04  1.954600e+04  1.954600e+04  19546.000000\n",
      "mean   9.902787e-03  9.945698e-03  9.909327e-03      0.014921\n",
      "std    8.466214e-02  8.501922e-02  8.472544e-02      0.030180\n",
      "min    3.299146e-07  3.664578e-08  8.116942e-07      0.000000\n",
      "25%    1.395539e-04  1.399917e-04  1.399804e-04      0.001932\n",
      "50%    2.318988e-04  2.331749e-04  2.317710e-04      0.005705\n",
      "75%    3.513865e-04  3.533294e-04  3.517126e-04      0.014799\n",
      "max    9.915688e-01  9.917364e-01  9.893742e-01      0.751663\n"
     ]
    }
   ],
   "source": [
    "print(X_test.describe())"
   ]
  },
  {
   "cell_type": "code",
   "execution_count": 67,
   "id": "782373c0",
   "metadata": {},
   "outputs": [
    {
     "name": "stdout",
     "output_type": "stream",
     "text": [
      "               Open          High           Low        Volume\n",
      "count  78183.000000  78183.000000  78183.000000  78183.000000\n",
      "mean       0.008638      0.008678      0.008647      0.014646\n",
      "std        0.078669      0.079018      0.078749      0.028957\n",
      "min        0.000000      0.000000      0.000000      0.000000\n",
      "25%        0.000141      0.000141      0.000141      0.001945\n",
      "50%        0.000235      0.000236      0.000235      0.005761\n",
      "75%        0.000350      0.000352      0.000350      0.014531\n",
      "max        1.000000      1.000000      1.000000      1.000000\n"
     ]
    }
   ],
   "source": [
    "print(X_train.describe())"
   ]
  },
  {
   "cell_type": "code",
   "execution_count": 68,
   "id": "cfd798cb",
   "metadata": {},
   "outputs": [],
   "source": [
    "from sklearn.linear_model import LinearRegression\n",
    "# Create Regression Model\n",
    "model = LinearRegression()\n",
    "# Train the model\n",
    "model.fit(X_train, y_train)\n",
    "# Use model to make predictions\n",
    "y_pred = model.predict(X_test)"
   ]
  },
  {
   "cell_type": "code",
   "execution_count": 69,
   "id": "a0e6d1a1",
   "metadata": {},
   "outputs": [
    {
     "name": "stdout",
     "output_type": "stream",
     "text": [
      "Model Coefficients: [[-5.92196679e-01  8.19573559e-01  7.74535152e-01  1.51590073e-06]]\n",
      "Mean Squared Error: 7.560862729953898e-08\n",
      "Coefficient of Determination: 0.9999895761631236\n"
     ]
    }
   ],
   "source": [
    "from sklearn.metrics import mean_squared_error, r2_score\n",
    "# Relevant metrics\n",
    "print(\"Model Coefficients:\", model.coef_)\n",
    "print(\"Mean Squared Error:\", mean_squared_error(y_test, y_pred))\n",
    "print(\"Coefficient of Determination:\", r2_score(y_test, y_pred))"
   ]
  },
  {
   "cell_type": "code",
   "execution_count": 70,
   "id": "0eaa5cba",
   "metadata": {},
   "outputs": [],
   "source": [
    "# next_val = model.predict(stock_test[['Open' ,'High' , 'Low']])\n",
    "\n",
    "# plt.plot(pd.DataFrame(stock1[1].tail(5).tolist(),index =range(1,5) )) \n",
    "# plt.plot(pd.DataFrame(next_val.reshape(1,-1).tolist()[0],index = range(5,9)))\n",
    "# # stock1[1].tail(10).tolist() + next_val.reshape(1,-1).tolist()[0]\n"
   ]
  },
  {
   "cell_type": "code",
   "execution_count": 71,
   "id": "1ebe65a1",
   "metadata": {},
   "outputs": [
    {
     "data": {
      "text/html": [
       "<div>\n",
       "<style scoped>\n",
       "    .dataframe tbody tr th:only-of-type {\n",
       "        vertical-align: middle;\n",
       "    }\n",
       "\n",
       "    .dataframe tbody tr th {\n",
       "        vertical-align: top;\n",
       "    }\n",
       "\n",
       "    .dataframe thead th {\n",
       "        text-align: right;\n",
       "    }\n",
       "</style>\n",
       "<table border=\"1\" class=\"dataframe\">\n",
       "  <thead>\n",
       "    <tr style=\"text-align: right;\">\n",
       "      <th></th>\n",
       "      <th>Open</th>\n",
       "      <th>High</th>\n",
       "      <th>Low</th>\n",
       "      <th>Volume</th>\n",
       "    </tr>\n",
       "  </thead>\n",
       "  <tbody>\n",
       "    <tr>\n",
       "      <th>0</th>\n",
       "      <td>26.299999</td>\n",
       "      <td>26.520000</td>\n",
       "      <td>25.959999</td>\n",
       "      <td>32642100</td>\n",
       "    </tr>\n",
       "    <tr>\n",
       "      <th>1</th>\n",
       "      <td>95.550003</td>\n",
       "      <td>95.739998</td>\n",
       "      <td>94.019997</td>\n",
       "      <td>1826300</td>\n",
       "    </tr>\n",
       "    <tr>\n",
       "      <th>2</th>\n",
       "      <td>54.770000</td>\n",
       "      <td>55.360001</td>\n",
       "      <td>54.590000</td>\n",
       "      <td>5656800</td>\n",
       "    </tr>\n",
       "    <tr>\n",
       "      <th>3</th>\n",
       "      <td>125.589996</td>\n",
       "      <td>125.820000</td>\n",
       "      <td>123.660004</td>\n",
       "      <td>4151600</td>\n",
       "    </tr>\n",
       "    <tr>\n",
       "      <th>4</th>\n",
       "      <td>20.709999</td>\n",
       "      <td>20.809999</td>\n",
       "      <td>20.670000</td>\n",
       "      <td>10489800</td>\n",
       "    </tr>\n",
       "    <tr>\n",
       "      <th>...</th>\n",
       "      <td>...</td>\n",
       "      <td>...</td>\n",
       "      <td>...</td>\n",
       "      <td>...</td>\n",
       "    </tr>\n",
       "    <tr>\n",
       "      <th>10855</th>\n",
       "      <td>51.660000</td>\n",
       "      <td>52.919998</td>\n",
       "      <td>49.919998</td>\n",
       "      <td>87000</td>\n",
       "    </tr>\n",
       "    <tr>\n",
       "      <th>10856</th>\n",
       "      <td>39.549999</td>\n",
       "      <td>40.619999</td>\n",
       "      <td>39.189999</td>\n",
       "      <td>35177200</td>\n",
       "    </tr>\n",
       "    <tr>\n",
       "      <th>10857</th>\n",
       "      <td>22.780001</td>\n",
       "      <td>22.900000</td>\n",
       "      <td>22.389999</td>\n",
       "      <td>9404100</td>\n",
       "    </tr>\n",
       "    <tr>\n",
       "      <th>10858</th>\n",
       "      <td>33.750000</td>\n",
       "      <td>34.060001</td>\n",
       "      <td>33.580002</td>\n",
       "      <td>26179000</td>\n",
       "    </tr>\n",
       "    <tr>\n",
       "      <th>10859</th>\n",
       "      <td>91.010002</td>\n",
       "      <td>91.680000</td>\n",
       "      <td>89.970001</td>\n",
       "      <td>4675300</td>\n",
       "    </tr>\n",
       "  </tbody>\n",
       "</table>\n",
       "<p>10860 rows × 4 columns</p>\n",
       "</div>"
      ],
      "text/plain": [
       "             Open        High         Low    Volume\n",
       "0       26.299999   26.520000   25.959999  32642100\n",
       "1       95.550003   95.739998   94.019997   1826300\n",
       "2       54.770000   55.360001   54.590000   5656800\n",
       "3      125.589996  125.820000  123.660004   4151600\n",
       "4       20.709999   20.809999   20.670000  10489800\n",
       "...           ...         ...         ...       ...\n",
       "10855   51.660000   52.919998   49.919998     87000\n",
       "10856   39.549999   40.619999   39.189999  35177200\n",
       "10857   22.780001   22.900000   22.389999   9404100\n",
       "10858   33.750000   34.060001   33.580002  26179000\n",
       "10859   91.010002   91.680000   89.970001   4675300\n",
       "\n",
       "[10860 rows x 4 columns]"
      ]
     },
     "execution_count": 71,
     "metadata": {},
     "output_type": "execute_result"
    }
   ],
   "source": [
    "dfz = pd.read_csv(\"C://Users//byuva//Downloads//stocknet_tst_data.csv\")\n",
    "dfz"
   ]
  },
  {
   "cell_type": "code",
   "execution_count": 72,
   "id": "07b7f922",
   "metadata": {},
   "outputs": [],
   "source": [
    "pred = model.predict(dfz)"
   ]
  },
  {
   "cell_type": "code",
   "execution_count": 73,
   "id": "16cbedf7",
   "metadata": {},
   "outputs": [
    {
     "data": {
      "text/plain": [
       "array([[75.7494338 ],\n",
       "       [97.47185889],\n",
       "       [63.79400236],\n",
       "       ...,\n",
       "       [36.87551708],\n",
       "       [73.62169561],\n",
       "       [98.01490229]])"
      ]
     },
     "execution_count": 73,
     "metadata": {},
     "output_type": "execute_result"
    }
   ],
   "source": [
    "pred"
   ]
  },
  {
   "cell_type": "code",
   "execution_count": 28,
   "id": "e4551d59",
   "metadata": {},
   "outputs": [
    {
     "data": {
      "image/png": "[encoded data removed]",
      "text/plain": [
       "<Figure size 1440x576 with 1 Axes>"
      ]
     },
     "metadata": {
      "needs_background": "light"
     },
     "output_type": "display_data"
    }
   ],
   "source": [
    "scaled = MinMaxScaler().fit_transform(dfx['Open'].values.reshape(-1,1))\n",
    "\n",
    "dfx = pd.DataFrame(scaled,columns = ['Open'])\n",
    "ax = plt.figure(figsize=(20,8))\n",
    "plt.plot(dfy[1])\n",
    "# new_dfy\n",
    "plt.show()"
   ]
  },
  {
   "cell_type": "code",
   "execution_count": 29,
   "id": "5c1f82e7",
   "metadata": {},
   "outputs": [],
   "source": [
    "dfp = pd.DataFrame(pred).header = None\n",
    "dfp"
   ]
  },
  {
   "cell_type": "code",
   "execution_count": 30,
   "id": "c0a88adc",
   "metadata": {},
   "outputs": [
    {
     "data": {
      "text/plain": [
       "<AxesSubplot:xlabel='Open', ylabel='1'>"
      ]
     },
     "execution_count": 30,
     "metadata": {},
     "output_type": "execute_result"
    },
    {
     "data": {
      "image/png": "[encoded data removed]",
      "text/plain": [
       "<Figure size 432x288 with 1 Axes>"
      ]
     },
     "metadata": {
      "needs_background": "light"
     },
     "output_type": "display_data"
    }
   ],
   "source": [
    "sns.regplot(x=dfx['Open'], y=dfy[1])"
   ]
  },
  {
   "cell_type": "code",
   "execution_count": 31,
   "id": "18d81507",
   "metadata": {},
   "outputs": [],
   "source": [
    "stock1=stock"
   ]
  },
  {
   "cell_type": "code",
   "execution_count": 32,
   "id": "8dc3e315",
   "metadata": {},
   "outputs": [],
   "source": [
    "stock1['Open'].fillna(int(stock1['Open'].mean()), inplace = True)"
   ]
  },
  {
   "cell_type": "code",
   "execution_count": 33,
   "id": "7a286415",
   "metadata": {},
   "outputs": [],
   "source": [
    "stock1['High'].fillna(int(stock1['High'].mean()), inplace = True)"
   ]
  },
  {
   "cell_type": "code",
   "execution_count": 34,
   "id": "905ad6d0",
   "metadata": {},
   "outputs": [],
   "source": [
    "stock1['Low'].fillna(int(stock1['Low'].mean()), inplace = True)"
   ]
  },
  {
   "cell_type": "code",
   "execution_count": 35,
   "id": "d8347ad0",
   "metadata": {},
   "outputs": [],
   "source": [
    "stock1[1].fillna(int(stock1[1].mean()), inplace = True)"
   ]
  },
  {
   "cell_type": "code",
   "execution_count": 36,
   "id": "efaab1c4",
   "metadata": {},
   "outputs": [
    {
     "data": {
      "text/html": [
       "<div>\n",
       "<style scoped>\n",
       "    .dataframe tbody tr th:only-of-type {\n",
       "        vertical-align: middle;\n",
       "    }\n",
       "\n",
       "    .dataframe tbody tr th {\n",
       "        vertical-align: top;\n",
       "    }\n",
       "\n",
       "    .dataframe thead th {\n",
       "        text-align: right;\n",
       "    }\n",
       "</style>\n",
       "<table border=\"1\" class=\"dataframe\">\n",
       "  <thead>\n",
       "    <tr style=\"text-align: right;\">\n",
       "      <th></th>\n",
       "      <th>Open</th>\n",
       "      <th>High</th>\n",
       "      <th>Low</th>\n",
       "      <th>Volume</th>\n",
       "      <th>1</th>\n",
       "    </tr>\n",
       "  </thead>\n",
       "  <tbody>\n",
       "    <tr>\n",
       "      <th>0</th>\n",
       "      <td>75.430000</td>\n",
       "      <td>75.910004</td>\n",
       "      <td>75.139999</td>\n",
       "      <td>3436700.0</td>\n",
       "      <td>75.650002</td>\n",
       "    </tr>\n",
       "    <tr>\n",
       "      <th>1</th>\n",
       "      <td>124.930000</td>\n",
       "      <td>124.940002</td>\n",
       "      <td>124.169998</td>\n",
       "      <td>2366700.0</td>\n",
       "      <td>124.449997</td>\n",
       "    </tr>\n",
       "    <tr>\n",
       "      <th>2</th>\n",
       "      <td>84.339996</td>\n",
       "      <td>84.370003</td>\n",
       "      <td>82.370003</td>\n",
       "      <td>11338700.0</td>\n",
       "      <td>82.660004</td>\n",
       "    </tr>\n",
       "    <tr>\n",
       "      <th>3</th>\n",
       "      <td>56.770000</td>\n",
       "      <td>57.150002</td>\n",
       "      <td>56.529999</td>\n",
       "      <td>413300.0</td>\n",
       "      <td>57.009998</td>\n",
       "    </tr>\n",
       "    <tr>\n",
       "      <th>4</th>\n",
       "      <td>47.419998</td>\n",
       "      <td>48.090000</td>\n",
       "      <td>46.759998</td>\n",
       "      <td>9531100.0</td>\n",
       "      <td>47.860001</td>\n",
       "    </tr>\n",
       "    <tr>\n",
       "      <th>...</th>\n",
       "      <td>...</td>\n",
       "      <td>...</td>\n",
       "      <td>...</td>\n",
       "      <td>...</td>\n",
       "      <td>...</td>\n",
       "    </tr>\n",
       "    <tr>\n",
       "      <th>97727</th>\n",
       "      <td>103.650002</td>\n",
       "      <td>103.809998</td>\n",
       "      <td>103.089996</td>\n",
       "      <td>3678200.0</td>\n",
       "      <td>103.230003</td>\n",
       "    </tr>\n",
       "    <tr>\n",
       "      <th>97728</th>\n",
       "      <td>64.419998</td>\n",
       "      <td>64.730003</td>\n",
       "      <td>64.190002</td>\n",
       "      <td>20273100.0</td>\n",
       "      <td>64.620003</td>\n",
       "    </tr>\n",
       "    <tr>\n",
       "      <th>97729</th>\n",
       "      <td>581.070007</td>\n",
       "      <td>581.400024</td>\n",
       "      <td>571.070007</td>\n",
       "      <td>3416500.0</td>\n",
       "      <td>575.140015</td>\n",
       "    </tr>\n",
       "    <tr>\n",
       "      <th>97730</th>\n",
       "      <td>120.650002</td>\n",
       "      <td>120.650002</td>\n",
       "      <td>114.959999</td>\n",
       "      <td>13261700.0</td>\n",
       "      <td>115.400002</td>\n",
       "    </tr>\n",
       "    <tr>\n",
       "      <th>97731</th>\n",
       "      <td>64.870003</td>\n",
       "      <td>64.959999</td>\n",
       "      <td>64.309998</td>\n",
       "      <td>667000.0</td>\n",
       "      <td>64.720001</td>\n",
       "    </tr>\n",
       "  </tbody>\n",
       "</table>\n",
       "<p>97732 rows × 5 columns</p>\n",
       "</div>"
      ],
      "text/plain": [
       "             Open        High         Low      Volume           1\n",
       "0       75.430000   75.910004   75.139999   3436700.0   75.650002\n",
       "1      124.930000  124.940002  124.169998   2366700.0  124.449997\n",
       "2       84.339996   84.370003   82.370003  11338700.0   82.660004\n",
       "3       56.770000   57.150002   56.529999    413300.0   57.009998\n",
       "4       47.419998   48.090000   46.759998   9531100.0   47.860001\n",
       "...           ...         ...         ...         ...         ...\n",
       "97727  103.650002  103.809998  103.089996   3678200.0  103.230003\n",
       "97728   64.419998   64.730003   64.190002  20273100.0   64.620003\n",
       "97729  581.070007  581.400024  571.070007   3416500.0  575.140015\n",
       "97730  120.650002  120.650002  114.959999  13261700.0  115.400002\n",
       "97731   64.870003   64.959999   64.309998    667000.0   64.720001\n",
       "\n",
       "[97732 rows x 5 columns]"
      ]
     },
     "execution_count": 36,
     "metadata": {},
     "output_type": "execute_result"
    }
   ],
   "source": [
    "stock1"
   ]
  },
  {
   "cell_type": "code",
   "execution_count": 37,
   "id": "c6ea1fb6",
   "metadata": {},
   "outputs": [],
   "source": [
    "#stock1[1] = stock1[1].shift(-15)"
   ]
  },
  {
   "cell_type": "code",
   "execution_count": 38,
   "id": "6490b820",
   "metadata": {},
   "outputs": [
    {
     "data": {
      "text/html": [
       "<div>\n",
       "<style scoped>\n",
       "    .dataframe tbody tr th:only-of-type {\n",
       "        vertical-align: middle;\n",
       "    }\n",
       "\n",
       "    .dataframe tbody tr th {\n",
       "        vertical-align: top;\n",
       "    }\n",
       "\n",
       "    .dataframe thead th {\n",
       "        text-align: right;\n",
       "    }\n",
       "</style>\n",
       "<table border=\"1\" class=\"dataframe\">\n",
       "  <thead>\n",
       "    <tr style=\"text-align: right;\">\n",
       "      <th></th>\n",
       "      <th>Open</th>\n",
       "      <th>High</th>\n",
       "      <th>Low</th>\n",
       "      <th>Volume</th>\n",
       "      <th>1</th>\n",
       "    </tr>\n",
       "  </thead>\n",
       "  <tbody>\n",
       "    <tr>\n",
       "      <th>0</th>\n",
       "      <td>75.430000</td>\n",
       "      <td>75.910004</td>\n",
       "      <td>75.139999</td>\n",
       "      <td>3436700.0</td>\n",
       "      <td>75.650002</td>\n",
       "    </tr>\n",
       "    <tr>\n",
       "      <th>1</th>\n",
       "      <td>124.930000</td>\n",
       "      <td>124.940002</td>\n",
       "      <td>124.169998</td>\n",
       "      <td>2366700.0</td>\n",
       "      <td>124.449997</td>\n",
       "    </tr>\n",
       "    <tr>\n",
       "      <th>2</th>\n",
       "      <td>84.339996</td>\n",
       "      <td>84.370003</td>\n",
       "      <td>82.370003</td>\n",
       "      <td>11338700.0</td>\n",
       "      <td>82.660004</td>\n",
       "    </tr>\n",
       "    <tr>\n",
       "      <th>3</th>\n",
       "      <td>56.770000</td>\n",
       "      <td>57.150002</td>\n",
       "      <td>56.529999</td>\n",
       "      <td>413300.0</td>\n",
       "      <td>57.009998</td>\n",
       "    </tr>\n",
       "    <tr>\n",
       "      <th>4</th>\n",
       "      <td>47.419998</td>\n",
       "      <td>48.090000</td>\n",
       "      <td>46.759998</td>\n",
       "      <td>9531100.0</td>\n",
       "      <td>47.860001</td>\n",
       "    </tr>\n",
       "    <tr>\n",
       "      <th>...</th>\n",
       "      <td>...</td>\n",
       "      <td>...</td>\n",
       "      <td>...</td>\n",
       "      <td>...</td>\n",
       "      <td>...</td>\n",
       "    </tr>\n",
       "    <tr>\n",
       "      <th>97727</th>\n",
       "      <td>103.650002</td>\n",
       "      <td>103.809998</td>\n",
       "      <td>103.089996</td>\n",
       "      <td>3678200.0</td>\n",
       "      <td>103.230003</td>\n",
       "    </tr>\n",
       "    <tr>\n",
       "      <th>97728</th>\n",
       "      <td>64.419998</td>\n",
       "      <td>64.730003</td>\n",
       "      <td>64.190002</td>\n",
       "      <td>20273100.0</td>\n",
       "      <td>64.620003</td>\n",
       "    </tr>\n",
       "    <tr>\n",
       "      <th>97729</th>\n",
       "      <td>581.070007</td>\n",
       "      <td>581.400024</td>\n",
       "      <td>571.070007</td>\n",
       "      <td>3416500.0</td>\n",
       "      <td>575.140015</td>\n",
       "    </tr>\n",
       "    <tr>\n",
       "      <th>97730</th>\n",
       "      <td>120.650002</td>\n",
       "      <td>120.650002</td>\n",
       "      <td>114.959999</td>\n",
       "      <td>13261700.0</td>\n",
       "      <td>115.400002</td>\n",
       "    </tr>\n",
       "    <tr>\n",
       "      <th>97731</th>\n",
       "      <td>64.870003</td>\n",
       "      <td>64.959999</td>\n",
       "      <td>64.309998</td>\n",
       "      <td>667000.0</td>\n",
       "      <td>64.720001</td>\n",
       "    </tr>\n",
       "  </tbody>\n",
       "</table>\n",
       "<p>97732 rows × 5 columns</p>\n",
       "</div>"
      ],
      "text/plain": [
       "             Open        High         Low      Volume           1\n",
       "0       75.430000   75.910004   75.139999   3436700.0   75.650002\n",
       "1      124.930000  124.940002  124.169998   2366700.0  124.449997\n",
       "2       84.339996   84.370003   82.370003  11338700.0   82.660004\n",
       "3       56.770000   57.150002   56.529999    413300.0   57.009998\n",
       "4       47.419998   48.090000   46.759998   9531100.0   47.860001\n",
       "...           ...         ...         ...         ...         ...\n",
       "97727  103.650002  103.809998  103.089996   3678200.0  103.230003\n",
       "97728   64.419998   64.730003   64.190002  20273100.0   64.620003\n",
       "97729  581.070007  581.400024  571.070007   3416500.0  575.140015\n",
       "97730  120.650002  120.650002  114.959999  13261700.0  115.400002\n",
       "97731   64.870003   64.959999   64.309998    667000.0   64.720001\n",
       "\n",
       "[97732 rows x 5 columns]"
      ]
     },
     "execution_count": 38,
     "metadata": {},
     "output_type": "execute_result"
    }
   ],
   "source": [
    "stock1"
   ]
  },
  {
   "cell_type": "code",
   "execution_count": 39,
   "id": "192c2d15",
   "metadata": {},
   "outputs": [],
   "source": [
    "# stock_test = stock1.tail(15).drop(columns = 1,axis = 1)\n",
    "# stock_test\n",
    "# stock1 = stock1[:-15]\n",
    "# stock1.tail()"
   ]
  },
  {
   "cell_type": "code",
   "execution_count": 40,
   "id": "56830e9f",
   "metadata": {},
   "outputs": [],
   "source": [
    "X_train, X_test, y_train, y_test = train_test_split(stock1[['Open','High' , 'Low']], stock1[[1]], test_size=.2)"
   ]
  },
  {
   "cell_type": "code",
   "execution_count": 41,
   "id": "bddff7fe",
   "metadata": {},
   "outputs": [],
   "source": [
    "from sklearn.linear_model import LinearRegression\n",
    "# Create Regression Model\n",
    "model = LinearRegression(normalize=True)\n",
    "model.fit(X_train, y_train)\n",
    "# Use model to make predictions\n",
    "y1_pred = model.predict(X_test)"
   ]
  },
  {
   "cell_type": "code",
   "execution_count": 42,
   "id": "ef865cf7",
   "metadata": {},
   "outputs": [
    {
     "name": "stdout",
     "output_type": "stream",
     "text": [
      "Model Coefficients: [[-0.59078429  0.81888992  0.77216585]]\n",
      "Mean Absolute Error: 6.469764139845405\n",
      "Coefficient of Determination: 0.9999861226691189\n"
     ]
    }
   ],
   "source": [
    "from sklearn.metrics import mean_squared_error, r2_score, mean_absolute_error\n",
    "# Printout relevant metrics\n",
    "print(\"Model Coefficients:\", model.coef_)\n",
    "print(\"Mean Absolute Error:\", mean_absolute_error(y_test, y1_pred))\n",
    "print(\"Coefficient of Determination:\", r2_score(y_test, y1_pred))"
   ]
  },
  {
   "cell_type": "code",
   "execution_count": 43,
   "id": "386a8d82",
   "metadata": {},
   "outputs": [
    {
     "data": {
      "text/plain": [
       "array([[29.07615566],\n",
       "       [47.68366047],\n",
       "       [35.92220514],\n",
       "       ...,\n",
       "       [43.13639535],\n",
       "       [61.07112528],\n",
       "       [38.35352357]])"
      ]
     },
     "execution_count": 43,
     "metadata": {},
     "output_type": "execute_result"
    }
   ],
   "source": [
    "y1_pred"
   ]
  },
  {
   "cell_type": "markdown",
   "id": "58f95300",
   "metadata": {},
   "source": [
    "### SVR"
   ]
  },
  {
   "cell_type": "code",
   "execution_count": 44,
   "id": "98b09463",
   "metadata": {},
   "outputs": [],
   "source": [
    "from sklearn.svm import SVR\n",
    "from sklearn.preprocessing import StandardScaler,MinMaxScaler\n",
    "from sklearn.model_selection import GridSearchCV"
   ]
  },
  {
   "cell_type": "code",
   "execution_count": 45,
   "id": "cf841bb0",
   "metadata": {},
   "outputs": [],
   "source": [
    "scaled = MinMaxScaler().fit_transform(stock_)\n",
    "\n",
    "stock_ = pd.DataFrame(scaled,columns = stock_.columns)"
   ]
  },
  {
   "cell_type": "code",
   "execution_count": 46,
   "id": "f755aa96",
   "metadata": {},
   "outputs": [
    {
     "data": {
      "text/html": [
       "<div>\n",
       "<style scoped>\n",
       "    .dataframe tbody tr th:only-of-type {\n",
       "        vertical-align: middle;\n",
       "    }\n",
       "\n",
       "    .dataframe tbody tr th {\n",
       "        vertical-align: top;\n",
       "    }\n",
       "\n",
       "    .dataframe thead th {\n",
       "        text-align: right;\n",
       "    }\n",
       "</style>\n",
       "<table border=\"1\" class=\"dataframe\">\n",
       "  <thead>\n",
       "    <tr style=\"text-align: right;\">\n",
       "      <th></th>\n",
       "      <th>Open</th>\n",
       "      <th>High</th>\n",
       "      <th>Low</th>\n",
       "      <th>Volume</th>\n",
       "      <th>1</th>\n",
       "    </tr>\n",
       "  </thead>\n",
       "  <tbody>\n",
       "    <tr>\n",
       "      <th>0</th>\n",
       "      <td>0.000269</td>\n",
       "      <td>0.000270</td>\n",
       "      <td>0.000270</td>\n",
       "      <td>0.005573</td>\n",
       "      <td>0.000272</td>\n",
       "    </tr>\n",
       "    <tr>\n",
       "      <th>1</th>\n",
       "      <td>0.000450</td>\n",
       "      <td>0.000449</td>\n",
       "      <td>0.000451</td>\n",
       "      <td>0.003838</td>\n",
       "      <td>0.000452</td>\n",
       "    </tr>\n",
       "    <tr>\n",
       "      <th>2</th>\n",
       "      <td>0.000301</td>\n",
       "      <td>0.000301</td>\n",
       "      <td>0.000297</td>\n",
       "      <td>0.018388</td>\n",
       "      <td>0.000297</td>\n",
       "    </tr>\n",
       "    <tr>\n",
       "      <th>3</th>\n",
       "      <td>0.000200</td>\n",
       "      <td>0.000201</td>\n",
       "      <td>0.000201</td>\n",
       "      <td>0.000670</td>\n",
       "      <td>0.000203</td>\n",
       "    </tr>\n",
       "    <tr>\n",
       "      <th>4</th>\n",
       "      <td>0.000166</td>\n",
       "      <td>0.000168</td>\n",
       "      <td>0.000165</td>\n",
       "      <td>0.015457</td>\n",
       "      <td>0.000169</td>\n",
       "    </tr>\n",
       "    <tr>\n",
       "      <th>...</th>\n",
       "      <td>...</td>\n",
       "      <td>...</td>\n",
       "      <td>...</td>\n",
       "      <td>...</td>\n",
       "      <td>...</td>\n",
       "    </tr>\n",
       "    <tr>\n",
       "      <th>97724</th>\n",
       "      <td>0.000372</td>\n",
       "      <td>0.000372</td>\n",
       "      <td>0.000373</td>\n",
       "      <td>0.005965</td>\n",
       "      <td>0.000373</td>\n",
       "    </tr>\n",
       "    <tr>\n",
       "      <th>97725</th>\n",
       "      <td>0.000228</td>\n",
       "      <td>0.000229</td>\n",
       "      <td>0.000230</td>\n",
       "      <td>0.032878</td>\n",
       "      <td>0.000231</td>\n",
       "    </tr>\n",
       "    <tr>\n",
       "      <th>97726</th>\n",
       "      <td>0.002122</td>\n",
       "      <td>0.002122</td>\n",
       "      <td>0.002100</td>\n",
       "      <td>0.005541</td>\n",
       "      <td>0.002114</td>\n",
       "    </tr>\n",
       "    <tr>\n",
       "      <th>97727</th>\n",
       "      <td>0.000434</td>\n",
       "      <td>0.000434</td>\n",
       "      <td>0.000417</td>\n",
       "      <td>0.021507</td>\n",
       "      <td>0.000418</td>\n",
       "    </tr>\n",
       "    <tr>\n",
       "      <th>97728</th>\n",
       "      <td>0.000230</td>\n",
       "      <td>0.000230</td>\n",
       "      <td>0.000230</td>\n",
       "      <td>0.001082</td>\n",
       "      <td>0.000231</td>\n",
       "    </tr>\n",
       "  </tbody>\n",
       "</table>\n",
       "<p>97729 rows × 5 columns</p>\n",
       "</div>"
      ],
      "text/plain": [
       "           Open      High       Low    Volume         1\n",
       "0      0.000269  0.000270  0.000270  0.005573  0.000272\n",
       "1      0.000450  0.000449  0.000451  0.003838  0.000452\n",
       "2      0.000301  0.000301  0.000297  0.018388  0.000297\n",
       "3      0.000200  0.000201  0.000201  0.000670  0.000203\n",
       "4      0.000166  0.000168  0.000165  0.015457  0.000169\n",
       "...         ...       ...       ...       ...       ...\n",
       "97724  0.000372  0.000372  0.000373  0.005965  0.000373\n",
       "97725  0.000228  0.000229  0.000230  0.032878  0.000231\n",
       "97726  0.002122  0.002122  0.002100  0.005541  0.002114\n",
       "97727  0.000434  0.000434  0.000417  0.021507  0.000418\n",
       "97728  0.000230  0.000230  0.000230  0.001082  0.000231\n",
       "\n",
       "[97729 rows x 5 columns]"
      ]
     },
     "execution_count": 46,
     "metadata": {},
     "output_type": "execute_result"
    }
   ],
   "source": [
    "stock_"
   ]
  },
  {
   "cell_type": "code",
   "execution_count": 47,
   "id": "a39e269f",
   "metadata": {},
   "outputs": [],
   "source": [
    "parameters = {'kernel': ('linear', 'rbf','poly'), 'C':[1.5, 10,100,1000],'gamma': [1e-7, 1e-4],'epsilon':[0.1,0.2,0.5,0.3]}"
   ]
  },
  {
   "cell_type": "code",
   "execution_count": 48,
   "id": "9108f6e3",
   "metadata": {
    "scrolled": true
   },
   "outputs": [],
   "source": [
    "tuning_model=GridSearchCV(stock_,param_grid=parameters,scoring='neg_mean_squared_error',cv=3,verbose=0)"
   ]
  },
  {
   "cell_type": "code",
   "execution_count": 49,
   "id": "f171c4f6",
   "metadata": {},
   "outputs": [],
   "source": [
    "X_train, X_test, y_train, y_test = train_test_split(stock_[['Open','High' , 'Low', 'Volume']], stock_[[1]], test_size=.2)"
   ]
  },
  {
   "cell_type": "code",
   "execution_count": 50,
   "id": "35ad8ca8",
   "metadata": {},
   "outputs": [
    {
     "data": {
      "text/plain": [
       "SVR(C=1000.0, gamma=0.1)"
      ]
     },
     "execution_count": 50,
     "metadata": {},
     "output_type": "execute_result"
    }
   ],
   "source": [
    "#svr_lin  = SVR(kernel='linear', C=1e3)\n",
    "#svr_poly = SVR(kernel='poly', C=1e3, degree=2)\n",
    "svr= SVR(kernel='rbf', C=1e3, gamma=0.1)\n",
    "    \n",
    "# Fit regression model\n",
    "#svr_lin .fit((stock1[['Open', 'High', 'Low', 1]], stock1[[1]]))\n",
    "#svr_poly.fit(Open, 1)\n",
    "svr.fit(X_train, y_train)"
   ]
  },
  {
   "cell_type": "code",
   "execution_count": 51,
   "id": "ff27a4f0",
   "metadata": {},
   "outputs": [],
   "source": [
    "prediction = svr.predict(X_test)\n",
    "from sklearn.metrics import mean_squared_error,mean_absolute_error"
   ]
  },
  {
   "cell_type": "code",
   "execution_count": 52,
   "id": "edefade4",
   "metadata": {},
   "outputs": [
    {
     "name": "stdout",
     "output_type": "stream",
     "text": [
      "Model Coefficients: [[-0.59078429  0.81888992  0.77216585]]\n",
      "Mean Squared Error: 0.00977921124615093\n",
      "Coefficient of Determination: -0.5468888713528417\n"
     ]
    }
   ],
   "source": [
    "from sklearn.metrics import mean_squared_error, r2_score, mean_absolute_error\n",
    "# Printout relevant metrics\n",
    "print(\"Model Coefficients:\", model.coef_)\n",
    "print(\"Mean Squared Error:\", mean_squared_error(y_test, prediction))\n",
    "print(\"Coefficient of Determination:\", r2_score(y_test, prediction))"
   ]
  },
  {
   "cell_type": "code",
   "execution_count": 53,
   "id": "684a38d1",
   "metadata": {},
   "outputs": [
    {
     "data": {
      "text/plain": [
       "array([0.10064259, 0.66727836, 0.0999802 , ..., 0.09996126, 0.74786984,\n",
       "       0.09992914])"
      ]
     },
     "execution_count": 53,
     "metadata": {},
     "output_type": "execute_result"
    }
   ],
   "source": [
    "prediction"
   ]
  },
  {
   "cell_type": "code",
   "execution_count": 54,
   "id": "5ca0b4fc",
   "metadata": {},
   "outputs": [
    {
     "data": {
      "text/plain": [
       "array([0.48316549, 0.48316549, 0.48316549, ..., 0.48316549, 0.48316549,\n",
       "       0.48316549])"
      ]
     },
     "execution_count": 54,
     "metadata": {},
     "output_type": "execute_result"
    }
   ],
   "source": [
    "s_pred =svr.predict(dfz)\n",
    "s_pred"
   ]
  },
  {
   "cell_type": "markdown",
   "id": "53d23670",
   "metadata": {},
   "source": [
    "### Decision Tree"
   ]
  },
  {
   "cell_type": "code",
   "execution_count": 55,
   "id": "1ee1a7f7",
   "metadata": {},
   "outputs": [
    {
     "data": {
      "text/plain": [
       "0.9999653284773713"
      ]
     },
     "execution_count": 55,
     "metadata": {},
     "output_type": "execute_result"
    }
   ],
   "source": [
    "from sklearn.tree import DecisionTreeRegressor\n",
    "X_train, X_test, y_train, y_test = train_test_split(stock_[['Open','High' , 'Low', 'Volume']], stock_[[1]], test_size = 0.2)\n",
    "tree = DecisionTreeRegressor(random_state=1).fit(X_train, y_train)\n",
    "tree.score(X_test, y_test)"
   ]
  },
  {
   "cell_type": "code",
   "execution_count": 56,
   "id": "ffc4b773",
   "metadata": {},
   "outputs": [],
   "source": [
    "pred_tree = tree.predict(X_test)"
   ]
  },
  {
   "cell_type": "code",
   "execution_count": 57,
   "id": "362dd076",
   "metadata": {},
   "outputs": [
    {
     "name": "stdout",
     "output_type": "stream",
     "text": [
      "Model Coefficients: [[-0.59078429  0.81888992  0.77216585]]\n",
      "Mean Absolute Error: 3.9821150467533e-05\n",
      "Coefficient of Determination: 0.9999653284773713\n"
     ]
    }
   ],
   "source": [
    "from sklearn.metrics import mean_squared_error, r2_score, mean_absolute_error\n",
    "# Printout relevant metrics\n",
    "print(\"Model Coefficients:\", model.coef_)\n",
    "print(\"Mean Absolute Error:\", mean_absolute_error(y_test, pred_tree))\n",
    "print(\"Coefficient of Determination:\", r2_score(y_test, pred_tree))"
   ]
  },
  {
   "cell_type": "code",
   "execution_count": 58,
   "id": "8bb39f23",
   "metadata": {},
   "outputs": [],
   "source": [
    "#tst_data = dfz\n",
    "#prediction = tree.predict(tst_data)\n",
    "#print(prediction)"
   ]
  },
  {
   "cell_type": "code",
   "execution_count": 59,
   "id": "87e85ec0",
   "metadata": {},
   "outputs": [],
   "source": [
    "dtr_pred =tree.predict(dfz)"
   ]
  },
  {
   "cell_type": "code",
   "execution_count": 60,
   "id": "f83a107d",
   "metadata": {},
   "outputs": [
    {
     "data": {
      "text/plain": [
       "array([0.9996237, 0.9996237, 0.9996237, ..., 0.9996237, 0.9996237,\n",
       "       0.9996237])"
      ]
     },
     "execution_count": 60,
     "metadata": {},
     "output_type": "execute_result"
    }
   ],
   "source": [
    "dtr_pred"
   ]
  },
  {
   "cell_type": "markdown",
   "id": "9206ef2f",
   "metadata": {},
   "source": [
    "### Saving the closing prices"
   ]
  },
  {
   "cell_type": "code",
   "execution_count": 74,
   "id": "7540a45d",
   "metadata": {},
   "outputs": [],
   "source": [
    "np.savetxt(\"B.Yuvaraj Goud_predicted_closing_prices.txt\",pred , delimiter=\"\\n\", fmt=\"%.0f\")"
   ]
  },
  {
   "cell_type": "code",
   "execution_count": null,
   "id": "97436295",
   "metadata": {},
   "outputs": [],
   "source": []
  }
 ],
 "metadata": {
  "kernelspec": {
   "display_name": "Python 3",
   "language": "python",
   "name": "python3"
  },
  "language_info": {
   "codemirror_mode": {
    "name": "ipython",
    "version": 3
   },
   "file_extension": ".py",
   "mimetype": "text/x-python",
   "name": "python",
   "nbconvert_exporter": "python",
   "pygments_lexer": "ipython3",
   "version": "3.8.8"
  }
 },
 "nbformat": 4,
 "nbformat_minor": 5
}
